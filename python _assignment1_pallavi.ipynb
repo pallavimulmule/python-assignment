{
 "cells": [
  {
   "cell_type": "code",
   "execution_count": 1,
   "id": "70589f7e",
   "metadata": {},
   "outputs": [],
   "source": [
    "# Assignment 1"
   ]
  },
  {
   "cell_type": "code",
   "execution_count": 5,
   "id": "57a22c8f",
   "metadata": {},
   "outputs": [],
   "source": [
    "# ex 1 \n",
    "s = \"Hi there Yogesh!\""
   ]
  },
  {
   "cell_type": "code",
   "execution_count": 3,
   "id": "0e856d77",
   "metadata": {},
   "outputs": [
    {
     "data": {
      "text/plain": [
       "'Hi there Yogesh!'"
      ]
     },
     "execution_count": 3,
     "metadata": {},
     "output_type": "execute_result"
    }
   ],
   "source": [
    "s"
   ]
  },
  {
   "cell_type": "code",
   "execution_count": 4,
   "id": "df4c17a9",
   "metadata": {},
   "outputs": [
    {
     "data": {
      "text/plain": [
       "['Hi', 'there', 'Yogesh!']"
      ]
     },
     "execution_count": 4,
     "metadata": {},
     "output_type": "execute_result"
    }
   ],
   "source": [
    "s.split()"
   ]
  },
  {
   "cell_type": "code",
   "execution_count": 7,
   "id": "5ebdb91e",
   "metadata": {},
   "outputs": [],
   "source": [
    "# Ex 2\n",
    "planet = \"Earth\"\n",
    "diameter = 12742"
   ]
  },
  {
   "cell_type": "code",
   "execution_count": 8,
   "id": "df609aac",
   "metadata": {},
   "outputs": [
    {
     "data": {
      "text/plain": [
       "'The diameter of Earth is 12742'"
      ]
     },
     "execution_count": 8,
     "metadata": {},
     "output_type": "execute_result"
    }
   ],
   "source": [
    "'The diameter of {} is {}'.format(planet,diameter)"
   ]
  },
  {
   "cell_type": "code",
   "execution_count": 9,
   "id": "7ef90883",
   "metadata": {},
   "outputs": [],
   "source": [
    "# Ex 3\n",
    "lst = [1,2,[3,4],[5,[100,200,['hello']],23,11],1,7]"
   ]
  },
  {
   "cell_type": "code",
   "execution_count": 10,
   "id": "ef86e3b5",
   "metadata": {},
   "outputs": [
    {
     "data": {
      "text/plain": [
       "list"
      ]
     },
     "execution_count": 10,
     "metadata": {},
     "output_type": "execute_result"
    }
   ],
   "source": [
    "type(lst)"
   ]
  },
  {
   "cell_type": "code",
   "execution_count": 11,
   "id": "2dc07d7a",
   "metadata": {},
   "outputs": [
    {
     "name": "stdout",
     "output_type": "stream",
     "text": [
      "[5, [100, 200, ['hello']], 23, 11]\n"
     ]
    }
   ],
   "source": [
    "print(lst[3])"
   ]
  },
  {
   "cell_type": "code",
   "execution_count": 12,
   "id": "b2f0982e",
   "metadata": {},
   "outputs": [
    {
     "name": "stdout",
     "output_type": "stream",
     "text": [
      "[100, 200, ['hello']]\n"
     ]
    }
   ],
   "source": [
    "print(lst[3][1])"
   ]
  },
  {
   "cell_type": "markdown",
   "id": "38c4900b",
   "metadata": {},
   "source": [
    " "
   ]
  },
  {
   "cell_type": "code",
   "execution_count": 15,
   "id": "89715498",
   "metadata": {},
   "outputs": [
    {
     "name": "stdout",
     "output_type": "stream",
     "text": [
      "hello\n"
     ]
    }
   ],
   "source": [
    "print(lst[3][1][2][0])"
   ]
  },
  {
   "cell_type": "code",
   "execution_count": 16,
   "id": "eb35028f",
   "metadata": {},
   "outputs": [],
   "source": [
    "# eX 4\n",
    "d = {'k1':[1,2,3,{'tricky':['oh','man','inception',{'target':[1,2,3,'hello']}]}]}\n"
   ]
  },
  {
   "cell_type": "code",
   "execution_count": 18,
   "id": "20d8f05b",
   "metadata": {},
   "outputs": [
    {
     "name": "stdout",
     "output_type": "stream",
     "text": [
      "['K1']\n"
     ]
    }
   ],
   "source": [
    "print( ['K1'])"
   ]
  },
  {
   "cell_type": "code",
   "execution_count": 25,
   "id": "43646b12",
   "metadata": {},
   "outputs": [
    {
     "data": {
      "text/plain": [
       "'hello'"
      ]
     },
     "execution_count": 25,
     "metadata": {},
     "output_type": "execute_result"
    }
   ],
   "source": [
    "d ['k1'] [3]['tricky'][3]['target'][3]"
   ]
  },
  {
   "cell_type": "code",
   "execution_count": 26,
   "id": "5ef4aeee",
   "metadata": {},
   "outputs": [],
   "source": [
    "# Ex 5\n",
    "def find_domain (s):\n",
    "    print(s.split ('@'))"
   ]
  },
  {
   "cell_type": "code",
   "execution_count": 27,
   "id": "72cfc98d",
   "metadata": {},
   "outputs": [
    {
     "name": "stdout",
     "output_type": "stream",
     "text": [
      "['pvm', 'gmail.com']\n"
     ]
    }
   ],
   "source": [
    "find_domain('pvm@gmail.com')"
   ]
  },
  {
   "cell_type": "code",
   "execution_count": 30,
   "id": "f969063e",
   "metadata": {},
   "outputs": [],
   "source": [
    "def find_domain (s):\n",
    "    print(s.split ('@')[1])"
   ]
  },
  {
   "cell_type": "code",
   "execution_count": 31,
   "id": "b0cb2db9",
   "metadata": {},
   "outputs": [
    {
     "name": "stdout",
     "output_type": "stream",
     "text": [
      "gmail.com\n"
     ]
    }
   ],
   "source": [
    "find_domain('pvm@gmail.com')"
   ]
  },
  {
   "cell_type": "code",
   "execution_count": 32,
   "id": "3eeb2866",
   "metadata": {},
   "outputs": [],
   "source": [
    "# Ex 6  ** Create a basic function that returns True if the word 'dog' is contained in the input string. Don't worry about edge cases like a punctuation being attached to the word dog, but do account for capitalization. **"
   ]
  },
  {
   "cell_type": "code",
   "execution_count": 33,
   "id": "853b3333",
   "metadata": {},
   "outputs": [],
   "source": [
    "def find_dog(s):\n",
    "    return 'dog'in s"
   ]
  },
  {
   "cell_type": "code",
   "execution_count": 34,
   "id": "80921248",
   "metadata": {},
   "outputs": [
    {
     "data": {
      "text/plain": [
       "True"
      ]
     },
     "execution_count": 34,
     "metadata": {},
     "output_type": "execute_result"
    }
   ],
   "source": [
    "find_dog(' my pet is dog')"
   ]
  },
  {
   "cell_type": "code",
   "execution_count": 35,
   "id": "5ef7fc8d",
   "metadata": {},
   "outputs": [
    {
     "data": {
      "text/plain": [
       "False"
      ]
     },
     "execution_count": 35,
     "metadata": {},
     "output_type": "execute_result"
    }
   ],
   "source": [
    "find_dog(' my pet is Dog')"
   ]
  },
  {
   "cell_type": "code",
   "execution_count": 36,
   "id": "99a8ee0d",
   "metadata": {},
   "outputs": [],
   "source": [
    "def find_dog(s):\n",
    "    return 'dog'in s.lower()"
   ]
  },
  {
   "cell_type": "code",
   "execution_count": 37,
   "id": "f8dd80e4",
   "metadata": {},
   "outputs": [
    {
     "data": {
      "text/plain": [
       "True"
      ]
     },
     "execution_count": 37,
     "metadata": {},
     "output_type": "execute_result"
    }
   ],
   "source": [
    "find_dog(' my pet is Dog')"
   ]
  },
  {
   "cell_type": "code",
   "execution_count": 59,
   "id": "9ba6f319",
   "metadata": {},
   "outputs": [],
   "source": [
    "\n",
    "def find_dog(s):\n",
    "    print(s.lower().count('dog'))"
   ]
  },
  {
   "cell_type": "code",
   "execution_count": 61,
   "id": "176afe4c",
   "metadata": {},
   "outputs": [
    {
     "name": "stdout",
     "output_type": "stream",
     "text": [
      "2\n"
     ]
    }
   ],
   "source": [
    "find_dog(' my pet is Dog. He is big dog')"
   ]
  },
  {
   "cell_type": "code",
   "execution_count": 71,
   "id": "a11c7af8",
   "metadata": {},
   "outputs": [],
   "source": [
    "# writting function\n",
    "def find_dog(s):\n",
    "    c=0\n",
    "    for w in s.lower().split():\n",
    "        if w=='dog':\n",
    "            c+=1\n",
    "    return c\n",
    "    \n"
   ]
  },
  {
   "cell_type": "code",
   "execution_count": 70,
   "id": "a1bd60ad",
   "metadata": {},
   "outputs": [
    {
     "data": {
      "text/plain": [
       "2"
      ]
     },
     "execution_count": 70,
     "metadata": {},
     "output_type": "execute_result"
    }
   ],
   "source": [
    "find_dog('my pet is dog Dog')"
   ]
  },
  {
   "cell_type": "code",
   "execution_count": 63,
   "id": "667a42ff",
   "metadata": {},
   "outputs": [],
   "source": [
    "#  Ex 7 ** Use lambda expressions and the filter() function to filter out words from a list that don't start with the letter 's'. For example:**\n",
    "\n",
    "seq = ['soup','dog','salad','cat','great']\n",
    "# should be filtered down to:\n",
    "\n",
    "#s['soup','salad']"
   ]
  },
  {
   "cell_type": "code",
   "execution_count": 64,
   "id": "4ba353c4",
   "metadata": {},
   "outputs": [
    {
     "data": {
      "text/plain": [
       "['soup', 'dog', 'salad', 'cat', 'great']"
      ]
     },
     "execution_count": 64,
     "metadata": {},
     "output_type": "execute_result"
    }
   ],
   "source": [
    "seq"
   ]
  },
  {
   "cell_type": "code",
   "execution_count": 65,
   "id": "4f63b84c",
   "metadata": {},
   "outputs": [
    {
     "data": {
      "text/plain": [
       "['dog', 'cat', 'great']"
      ]
     },
     "execution_count": 65,
     "metadata": {},
     "output_type": "execute_result"
    }
   ],
   "source": [
    "list(filter(lambda x:x[0]!='s', seq))"
   ]
  },
  {
   "cell_type": "code",
   "execution_count": 66,
   "id": "a40d79ac",
   "metadata": {},
   "outputs": [
    {
     "data": {
      "text/plain": [
       "['soup', 'salad']"
      ]
     },
     "execution_count": 66,
     "metadata": {},
     "output_type": "execute_result"
    }
   ],
   "source": [
    "list(filter(lambda x:x[0]=='s', seq))"
   ]
  },
  {
   "cell_type": "code",
   "execution_count": 72,
   "id": "f679aece",
   "metadata": {},
   "outputs": [
    {
     "data": {
      "text/plain": [
       "['soup', 'salad']"
      ]
     },
     "execution_count": 72,
     "metadata": {},
     "output_type": "execute_result"
    }
   ],
   "source": [
    "list(filter(lambda item: item.startswith(\"s\"),seq))"
   ]
  },
  {
   "cell_type": "code",
   "execution_count": 69,
   "id": "a89ab502",
   "metadata": {},
   "outputs": [],
   "source": [
    " # Ex 8    # *You are driving a little too fast, and a police officer stops you. Write a function to return one of 3 possible results: \n",
    "#\"No ticket\", \"Small ticket\", or \"Big Ticket\". If your speed is 60 or less, the result is \"No Ticket\". \n",
    "#If speed is between 61 and 80 inclusive, the result is \"Small Ticket\". If speed is 81 or more, the result is\n",
    "#\"Big Ticket\". Unless it is your birthday (encoded as a boolean value in the parameters of the function) -- on your birthday, \n",
    "#your speed can be 5 higher in all cases. *"
   ]
  },
  {
   "cell_type": "code",
   "execution_count": 75,
   "id": "c3a81098",
   "metadata": {},
   "outputs": [],
   "source": [
    "def caught_speeding(speed, birthday):\n",
    "    if speed <= 60 and birthday = true :\n",
    "        return 'no ticket'\n",
    "    elif (61 < speed < 75) :\n",
    "        return 'small ticket'\n",
    "    elif speed >= 76 :\n",
    "        return ' big ticket'\n",
    "    "
   ]
  },
  {
   "cell_type": "code",
   "execution_count": 77,
   "id": "1ec863a2",
   "metadata": {},
   "outputs": [
    {
     "data": {
      "text/plain": [
       "'no ticket'"
      ]
     },
     "execution_count": 77,
     "metadata": {},
     "output_type": "execute_result"
    }
   ],
   "source": [
    "caught_speeding(60, True)"
   ]
  },
  {
   "cell_type": "code",
   "execution_count": 79,
   "id": "8e3b51bf",
   "metadata": {},
   "outputs": [],
   "source": [
    "lst = ['-123abcd', 'abcd456','fdhfh-78dsd89','-56dssd78']"
   ]
  },
  {
   "cell_type": "code",
   "execution_count": 81,
   "id": "9e206352",
   "metadata": {},
   "outputs": [
    {
     "data": {
      "text/plain": [
       "list"
      ]
     },
     "execution_count": 81,
     "metadata": {},
     "output_type": "execute_result"
    }
   ],
   "source": [
    "type(lst)"
   ]
  },
  {
   "cell_type": "code",
   "execution_count": 82,
   "id": "8906dcf2",
   "metadata": {},
   "outputs": [],
   "source": [
    "s=str(lst)"
   ]
  },
  {
   "cell_type": "code",
   "execution_count": 83,
   "id": "46b399ce",
   "metadata": {},
   "outputs": [
    {
     "data": {
      "text/plain": [
       "str"
      ]
     },
     "execution_count": 83,
     "metadata": {},
     "output_type": "execute_result"
    }
   ],
   "source": [
    "type(s)"
   ]
  },
  {
   "cell_type": "code",
   "execution_count": 89,
   "id": "e63fcfca",
   "metadata": {},
   "outputs": [
    {
     "name": "stdout",
     "output_type": "stream",
     "text": [
      "Enter the Input String:45798ytr\n",
      "45798\n"
     ]
    }
   ],
   "source": [
    "# Ex 9 Question\n",
    "#Given a string print number num by extracting all the\n",
    "#digits from the string as in string\n",
    "#Print negative number if the first character in \n",
    "s#tring is '-'\n",
    "#eg. -123abcd should return -123,abcd456-->456\n",
    "\n",
    "s=input(\"Enter the Input String:\")\n",
    "num=\"\"\n",
    "data=[0,1,2,3,4,5,6,7,8,9]\n",
    "if s[0]==\"-\":\n",
    "    num=num+s[0]\n",
    "for c in s:\n",
    "    if c in str(data):\n",
    "        num=num+c\n",
    "print(num)"
   ]
  },
  {
   "cell_type": "code",
   "execution_count": 91,
   "id": "2a6fd8ed",
   "metadata": {},
   "outputs": [
    {
     "name": "stdout",
     "output_type": "stream",
     "text": [
      "Enter the Input String: -7854khbb\n",
      "-7854\n"
     ]
    }
   ],
   "source": [
    "s=input(\"Enter the Input String: \") \n",
    "num=\"\"\n",
    "data=[0,1,2,3,4,5,6,7,8,9]\n",
    "if s[0]==\"-\":\n",
    "    num= num+s[0]\n",
    "for n in s:\n",
    "    if n.isdigit():\n",
    "        num= num+n\n",
    "print(num)"
   ]
  },
  {
   "cell_type": "code",
   "execution_count": 102,
   "id": "ca0d0677",
   "metadata": {},
   "outputs": [
    {
     "name": "stdout",
     "output_type": "stream",
     "text": [
      "Enter the Number:123\n",
      "Number is: 444\n",
      "Reverse is 444\n",
      "palindrome is: 444\n"
     ]
    }
   ],
   "source": [
    "# WAP to check whether a number is palindrome or not on following conditions.\n",
    "# 1. take input number\n",
    "# 2. add number and its reverse\n",
    "#3. check that number is palindrome or not,if not then sum and its reverse\n",
    "\n",
    "num1=input(\"Enter the Number:\")\n",
    "num2=int(num1[::-1])\n",
    "num3=str(int(num1)+num2)\n",
    "print(\"Number is:\",num3)\n",
    "print(\"Reverse is\",num3[::-1])\n",
    "while num3!=num3[::-1]:\n",
    "    num3=str(int(num3)+int(num3[::-1]))\n",
    "    print(\"Number is:\",num3)\n",
    "    print(\"Reverse is\",num3[::-1])\n",
    "print(\"palindrome is:\",num3)\n",
    "    \n",
    "\n"
   ]
  },
  {
   "cell_type": "code",
   "execution_count": 103,
   "id": "241a2cb5",
   "metadata": {},
   "outputs": [],
   "source": [
    "# Write a python function to find and display the five \n",
    "# digit number in which the first digit is two more than \n",
    "# the second,the second digit is two more than the third,\n",
    "# the fourth digit is two less than the third, and the \n",
    "# last digit is two more than\n",
    "# the fourth.The sum of the third,fourth and fifth digits\n",
    "# equals the first.The sum of all the digits is 19\n",
    "def fun1():\n",
    "    for a in range(0,10):\n",
    "        b=a-2\n",
    "        c=b-2\n",
    "        d=c-2\n",
    "        if c+d+c==a and a+b+c+d+c==19:\n",
    "            print(str(a)+str(b)+str(c)+str(d)+str(c))"
   ]
  },
  {
   "cell_type": "code",
   "execution_count": 104,
   "id": "77c6bc92",
   "metadata": {},
   "outputs": [
    {
     "name": "stdout",
     "output_type": "stream",
     "text": [
      "75313\n"
     ]
    }
   ],
   "source": [
    "fun1()"
   ]
  },
  {
   "cell_type": "code",
   "execution_count": null,
   "id": "ff5aaf28",
   "metadata": {},
   "outputs": [],
   "source": []
  }
 ],
 "metadata": {
  "kernelspec": {
   "display_name": "Python 3 (ipykernel)",
   "language": "python",
   "name": "python3"
  },
  "language_info": {
   "codemirror_mode": {
    "name": "ipython",
    "version": 3
   },
   "file_extension": ".py",
   "mimetype": "text/x-python",
   "name": "python",
   "nbconvert_exporter": "python",
   "pygments_lexer": "ipython3",
   "version": "3.9.13"
  }
 },
 "nbformat": 4,
 "nbformat_minor": 5
}
